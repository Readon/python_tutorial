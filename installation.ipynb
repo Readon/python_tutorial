{
 "nbformat": 4,
 "nbformat_minor": 2,
 "metadata": {
  "language_info": {
   "name": "python",
   "codemirror_mode": {
    "name": "ipython",
    "version": 3
   }
  },
  "orig_nbformat": 2,
  "file_extension": ".py",
  "mimetype": "text/x-python",
  "name": "python",
  "npconvert_exporter": "python",
  "pygments_lexer": "ipython3",
  "version": 3
 },
 "cells": [
  {
   "cell_type": "markdown",
   "metadata": {},
   "source": [
    "# Python学习环境\n",
    "该环境使用了VSCode编辑器，MiniConda程序发布。"
   ]
  },
  {
   "cell_type": "markdown",
   "metadata": {},
   "source": [
    "## 安装VSCode\n",
    "下载并安装该编辑器：[下载地址](https://code.visualstudio.com/?utm_expid=101350005-25.TcgI322oRoCwQD7KJ5t8zQ.0)。\n",
    "\n",
    "### 安装扩展包\n",
    "点击VSCode侧边栏上的扩展图标，搜索关键词：jupyter。安装微软公司提供的Python扩展包。"
   ]
  },
  {
   "cell_type": "markdown",
   "metadata": {},
   "source": [
    "## 安装MiniConda\n",
    "MiniConda是Anaconda发布的一个最简版本。可以通过[清华国内镜像](https://mirrors.tuna.tsinghua.edu.cn/anaconda/miniconda/Miniconda3-latest-Windows-x86_64.exe)进行下载。\n",
    "\n",
    "安装完成后可以看到开始菜单内出现了Anaconda Prompt图标，双击打开后可以利用conda命令进行管理，[使用方法](https://www.cnblogs.com/cqliu/p/11199771.html)参见链接。\n",
    "\n",
    "### 配置国内镜像\n",
    "conda的软件源，即软件源头在国外，下载较慢。可以参考[使用帮助](https://mirrors.tuna.tsinghua.edu.cn/help/anaconda/)配置.condarc文件使用清华的镜像服务安装软件包。\n",
    "\n",
    "### 安装jupyter\n",
    "使用conda install jupyter notebook安装jupyter编辑、调试环境所需的工具包。"
   ]
  },
  {
   "cell_type": "markdown",
   "metadata": {},
   "source": [
    "## 使用VSCode编辑jupyter notebook\n",
    "按下ctrl + shift + p，搜索jupyter相关指令，使用create命令创建全新的notebook。\n",
    "创建后会提示要求选择python解释器，可以选择miniconda安装目录下的python.exe文件。\n",
    "\n",
    "随后可以按照jupyter notebook的常规使用方法来进行python编程尝试。"
   ]
  },
  {
   "cell_type": "markdown",
   "metadata": {},
   "source": [
    "## 练习和学习资料\n",
    "\n",
    "本仓库附带的《笨办法学Python》一书入门比较方便。\n",
    "\n",
    "[从零开始学Python](https://doc.yonyoucloud.com/doc/wiki/project/start-learning-python/index.html)\n",
    "\n",
    "[廖雪峰学习库Jupyter Notebook](https://github.com/Watermelon233/PythonXueFeng.Liao-notebook)\n",
    "\n",
    "[Python练习册](https://github.com/Yixiaohan/show-me-the-code)\n",
    "\n",
    "[项目导向的编程学习](https://github.com/tuvtran/project-based-learning)\n",
    "\n",
    "## Python学习计划\n",
    "[Python从入门到精通](https://www.jiqizhixin.com/articles/2019-10-08)\n",
    "\n",
    "## git工具及相关资料\n",
    "[GitExtension:](https://gitextensions.github.io/)git图形工具\n",
    "\n",
    "[Git for windows:](https://gitforwindows.org/)git在Windows操作系统上的移植\n",
    "\n",
    "[Kdiff3:](http://kdiff3.sourceforge.net/)比较合并工具（新手可选）\n",
    "\n",
    "[Git学习资料:](https://github.com/geeeeeeeeek/git-recipes)\n",
    "\n"
   ]
  }
 ]
}